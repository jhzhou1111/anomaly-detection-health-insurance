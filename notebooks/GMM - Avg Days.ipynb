{
 "cells": [
  {
   "cell_type": "markdown",
   "metadata": {},
   "source": [
    "### Anomalies Detection on Health Insurance Claims\n",
    "\n",
    "1. Exploratory Data Analysis\n",
    "    + Features knowledge"
   ]
  },
  {
   "cell_type": "markdown",
   "metadata": {},
   "source": [
    "The document is going to lead the distribution and insights about an important feature with valuable information involved on every claim, on a first study we shall make some assumptions from the DWH"
   ]
  },
  {
   "cell_type": "markdown",
   "metadata": {},
   "source": [
    "### Average days of hospitalization"
   ]
  },
  {
   "cell_type": "code",
   "execution_count": 80,
   "metadata": {
    "collapsed": true
   },
   "outputs": [],
   "source": [
    "import os\n",
    "import matplotlib as mpl\n",
    "import numpy as np\n",
    "import collections\n",
    "import pandas as pd\n",
    "from itertools import count\n",
    "from pandas.core.window import Rolling\n",
    "import matplotlib.pyplot as plt\n",
    "import matplotlib.dates as mdates\n",
    "plt.style.use('ggplot')\n",
    "%matplotlib inline"
   ]
  },
  {
   "cell_type": "code",
   "execution_count": 3,
   "metadata": {
    "collapsed": false
   },
   "outputs": [],
   "source": [
    "df = pd.read_csv(\"hospit-days.csv\", parse_dates=True, sep=';')"
   ]
  },
  {
   "cell_type": "code",
   "execution_count": 5,
   "metadata": {
    "collapsed": false
   },
   "outputs": [
    {
     "data": {
      "text/html": [
       "<div>\n",
       "<style scoped>\n",
       "    .dataframe tbody tr th:only-of-type {\n",
       "        vertical-align: middle;\n",
       "    }\n",
       "\n",
       "    .dataframe tbody tr th {\n",
       "        vertical-align: top;\n",
       "    }\n",
       "\n",
       "    .dataframe thead th {\n",
       "        text-align: right;\n",
       "    }\n",
       "</style>\n",
       "<table border=\"1\" class=\"dataframe\">\n",
       "  <thead>\n",
       "    <tr style=\"text-align: right;\">\n",
       "      <th></th>\n",
       "      <th>In</th>\n",
       "      <th>Out</th>\n",
       "      <th>Days</th>\n",
       "    </tr>\n",
       "  </thead>\n",
       "  <tbody>\n",
       "    <tr>\n",
       "      <th>0</th>\n",
       "      <td>27-12-17</td>\n",
       "      <td>30/12/2017</td>\n",
       "      <td>3</td>\n",
       "    </tr>\n",
       "    <tr>\n",
       "      <th>1</th>\n",
       "      <td>26-12-17</td>\n",
       "      <td>30/12/2017</td>\n",
       "      <td>4</td>\n",
       "    </tr>\n",
       "    <tr>\n",
       "      <th>2</th>\n",
       "      <td>27-12-17</td>\n",
       "      <td>30/12/2017</td>\n",
       "      <td>3</td>\n",
       "    </tr>\n",
       "    <tr>\n",
       "      <th>3</th>\n",
       "      <td>29-12-17</td>\n",
       "      <td>30/12/2017</td>\n",
       "      <td>1</td>\n",
       "    </tr>\n",
       "    <tr>\n",
       "      <th>4</th>\n",
       "      <td>26-12-17</td>\n",
       "      <td>30/12/2017</td>\n",
       "      <td>4</td>\n",
       "    </tr>\n",
       "  </tbody>\n",
       "</table>\n",
       "</div>"
      ],
      "text/plain": [
       "         In         Out  Days\n",
       "0  27-12-17  30/12/2017     3\n",
       "1  26-12-17  30/12/2017     4\n",
       "2  27-12-17  30/12/2017     3\n",
       "3  29-12-17  30/12/2017     1\n",
       "4  26-12-17  30/12/2017     4"
      ]
     },
     "execution_count": 5,
     "metadata": {},
     "output_type": "execute_result"
    }
   ],
   "source": [
    "df.head()"
   ]
  },
  {
   "cell_type": "code",
   "execution_count": 11,
   "metadata": {},
   "outputs": [
    {
     "data": {
      "text/plain": [
       "[<matplotlib.lines.Line2D at 0x1106acc50>]"
      ]
     },
     "execution_count": 11,
     "metadata": {},
     "output_type": "execute_result"
    },
    {
     "data": {
      "image/png": "[encoded data removed]",
      "text/plain": [
       "<Figure size 1152x576 with 1 Axes>"
      ]
     },
     "metadata": {},
     "output_type": "display_data"
    }
   ],
   "source": [
    "plt.figure(figsize=(16, 8))\n",
    "plt.title(\"Average Hospitalization Days\")\n",
    "plt.plot(range(len(df)), df['Days'], '-', c='forestgreen')"
   ]
  },
  {
   "cell_type": "code",
   "execution_count": 19,
   "metadata": {},
   "outputs": [],
   "source": [
    "df['In'] = pd.to_datetime(df['In'])\n",
    "df['Out'] = pd.to_datetime(df['Out'])"
   ]
  },
  {
   "cell_type": "code",
   "execution_count": 20,
   "metadata": {
    "collapsed": false
   },
   "outputs": [
    {
     "data": {
      "text/html": [
       "<div>\n",
       "<style scoped>\n",
       "    .dataframe tbody tr th:only-of-type {\n",
       "        vertical-align: middle;\n",
       "    }\n",
       "\n",
       "    .dataframe tbody tr th {\n",
       "        vertical-align: top;\n",
       "    }\n",
       "\n",
       "    .dataframe thead th {\n",
       "        text-align: right;\n",
       "    }\n",
       "</style>\n",
       "<table border=\"1\" class=\"dataframe\">\n",
       "  <thead>\n",
       "    <tr style=\"text-align: right;\">\n",
       "      <th></th>\n",
       "      <th>In</th>\n",
       "      <th>Out</th>\n",
       "      <th>Days</th>\n",
       "    </tr>\n",
       "  </thead>\n",
       "  <tbody>\n",
       "    <tr>\n",
       "      <th>14891</th>\n",
       "      <td>2014-03-13</td>\n",
       "      <td>2014-11-26</td>\n",
       "      <td>258</td>\n",
       "    </tr>\n",
       "    <tr>\n",
       "      <th>57204</th>\n",
       "      <td>2006-09-01</td>\n",
       "      <td>2006-08-20</td>\n",
       "      <td>223</td>\n",
       "    </tr>\n",
       "    <tr>\n",
       "      <th>4451</th>\n",
       "      <td>2016-02-08</td>\n",
       "      <td>2017-01-03</td>\n",
       "      <td>211</td>\n",
       "    </tr>\n",
       "    <tr>\n",
       "      <th>85473</th>\n",
       "      <td>2000-03-26</td>\n",
       "      <td>2000-10-19</td>\n",
       "      <td>207</td>\n",
       "    </tr>\n",
       "    <tr>\n",
       "      <th>3154</th>\n",
       "      <td>2016-12-11</td>\n",
       "      <td>2017-05-28</td>\n",
       "      <td>197</td>\n",
       "    </tr>\n",
       "    <tr>\n",
       "      <th>26577</th>\n",
       "      <td>2012-03-03</td>\n",
       "      <td>2012-08-20</td>\n",
       "      <td>170</td>\n",
       "    </tr>\n",
       "    <tr>\n",
       "      <th>60605</th>\n",
       "      <td>2005-12-20</td>\n",
       "      <td>2006-01-14</td>\n",
       "      <td>25</td>\n",
       "    </tr>\n",
       "    <tr>\n",
       "      <th>62163</th>\n",
       "      <td>2005-08-25</td>\n",
       "      <td>2005-09-19</td>\n",
       "      <td>25</td>\n",
       "    </tr>\n",
       "    <tr>\n",
       "      <th>20743</th>\n",
       "      <td>2013-10-20</td>\n",
       "      <td>2013-11-14</td>\n",
       "      <td>25</td>\n",
       "    </tr>\n",
       "    <tr>\n",
       "      <th>15917</th>\n",
       "      <td>2014-08-29</td>\n",
       "      <td>2014-09-23</td>\n",
       "      <td>25</td>\n",
       "    </tr>\n",
       "  </tbody>\n",
       "</table>\n",
       "</div>"
      ],
      "text/plain": [
       "              In        Out  Days\n",
       "14891 2014-03-13 2014-11-26   258\n",
       "57204 2006-09-01 2006-08-20   223\n",
       "4451  2016-02-08 2017-01-03   211\n",
       "85473 2000-03-26 2000-10-19   207\n",
       "3154  2016-12-11 2017-05-28   197\n",
       "26577 2012-03-03 2012-08-20   170\n",
       "60605 2005-12-20 2006-01-14    25\n",
       "62163 2005-08-25 2005-09-19    25\n",
       "20743 2013-10-20 2013-11-14    25\n",
       "15917 2014-08-29 2014-09-23    25"
      ]
     },
     "execution_count": 20,
     "metadata": {},
     "output_type": "execute_result"
    }
   ],
   "source": [
    "#how the top looks like\n",
    "df.sort_values(['Days'], ascending=False).head(10)"
   ]
  },
  {
   "cell_type": "code",
   "execution_count": 21,
   "metadata": {
    "collapsed": false
   },
   "outputs": [
    {
     "data": {
      "text/html": [
       "<div>\n",
       "<style scoped>\n",
       "    .dataframe tbody tr th:only-of-type {\n",
       "        vertical-align: middle;\n",
       "    }\n",
       "\n",
       "    .dataframe tbody tr th {\n",
       "        vertical-align: top;\n",
       "    }\n",
       "\n",
       "    .dataframe thead th {\n",
       "        text-align: right;\n",
       "    }\n",
       "</style>\n",
       "<table border=\"1\" class=\"dataframe\">\n",
       "  <thead>\n",
       "    <tr style=\"text-align: right;\">\n",
       "      <th></th>\n",
       "      <th>Days</th>\n",
       "    </tr>\n",
       "    <tr>\n",
       "      <th>In</th>\n",
       "      <th></th>\n",
       "    </tr>\n",
       "  </thead>\n",
       "  <tbody>\n",
       "    <tr>\n",
       "      <th>1999-12</th>\n",
       "      <td>6.156250</td>\n",
       "    </tr>\n",
       "    <tr>\n",
       "      <th>2000-01</th>\n",
       "      <td>2.113684</td>\n",
       "    </tr>\n",
       "    <tr>\n",
       "      <th>2000-02</th>\n",
       "      <td>2.156716</td>\n",
       "    </tr>\n",
       "    <tr>\n",
       "      <th>2000-03</th>\n",
       "      <td>2.339806</td>\n",
       "    </tr>\n",
       "    <tr>\n",
       "      <th>2000-04</th>\n",
       "      <td>1.982843</td>\n",
       "    </tr>\n",
       "  </tbody>\n",
       "</table>\n",
       "</div>"
      ],
      "text/plain": [
       "             Days\n",
       "In               \n",
       "1999-12  6.156250\n",
       "2000-01  2.113684\n",
       "2000-02  2.156716\n",
       "2000-03  2.339806\n",
       "2000-04  1.982843"
      ]
     },
     "execution_count": 21,
     "metadata": {},
     "output_type": "execute_result"
    }
   ],
   "source": [
    "months = df['In'].dt.to_period(\"M\")\n",
    "dfm = df.groupby(months).mean()"
   ]
  },
  {
   "cell_type": "code",
   "execution_count": 22,
   "metadata": {},
   "outputs": [
    {
     "data": {
      "text/html": [
       "<div>\n",
       "<style scoped>\n",
       "    .dataframe tbody tr th:only-of-type {\n",
       "        vertical-align: middle;\n",
       "    }\n",
       "\n",
       "    .dataframe tbody tr th {\n",
       "        vertical-align: top;\n",
       "    }\n",
       "\n",
       "    .dataframe thead th {\n",
       "        text-align: right;\n",
       "    }\n",
       "</style>\n",
       "<table border=\"1\" class=\"dataframe\">\n",
       "  <thead>\n",
       "    <tr style=\"text-align: right;\">\n",
       "      <th></th>\n",
       "      <th>Days</th>\n",
       "    </tr>\n",
       "    <tr>\n",
       "      <th>In</th>\n",
       "      <th></th>\n",
       "    </tr>\n",
       "  </thead>\n",
       "  <tbody>\n",
       "    <tr>\n",
       "      <th>1999-12</th>\n",
       "      <td>6.156250</td>\n",
       "    </tr>\n",
       "    <tr>\n",
       "      <th>2000-01</th>\n",
       "      <td>2.113684</td>\n",
       "    </tr>\n",
       "    <tr>\n",
       "      <th>2000-02</th>\n",
       "      <td>2.156716</td>\n",
       "    </tr>\n",
       "    <tr>\n",
       "      <th>2000-03</th>\n",
       "      <td>2.339806</td>\n",
       "    </tr>\n",
       "    <tr>\n",
       "      <th>2000-04</th>\n",
       "      <td>1.982843</td>\n",
       "    </tr>\n",
       "    <tr>\n",
       "      <th>2000-05</th>\n",
       "      <td>2.067720</td>\n",
       "    </tr>\n",
       "    <tr>\n",
       "      <th>2000-06</th>\n",
       "      <td>1.764706</td>\n",
       "    </tr>\n",
       "    <tr>\n",
       "      <th>2000-07</th>\n",
       "      <td>2.075426</td>\n",
       "    </tr>\n",
       "    <tr>\n",
       "      <th>2000-08</th>\n",
       "      <td>1.770302</td>\n",
       "    </tr>\n",
       "    <tr>\n",
       "      <th>2000-09</th>\n",
       "      <td>1.956098</td>\n",
       "    </tr>\n",
       "  </tbody>\n",
       "</table>\n",
       "</div>"
      ],
      "text/plain": [
       "             Days\n",
       "In               \n",
       "1999-12  6.156250\n",
       "2000-01  2.113684\n",
       "2000-02  2.156716\n",
       "2000-03  2.339806\n",
       "2000-04  1.982843\n",
       "2000-05  2.067720\n",
       "2000-06  1.764706\n",
       "2000-07  2.075426\n",
       "2000-08  1.770302\n",
       "2000-09  1.956098"
      ]
     },
     "execution_count": 22,
     "metadata": {},
     "output_type": "execute_result"
    }
   ],
   "source": [
    "dfm.head(10)"
   ]
  },
  {
   "cell_type": "code",
   "execution_count": 23,
   "metadata": {},
   "outputs": [
    {
     "data": {
      "text/plain": [
       "[<matplotlib.lines.Line2D at 0x115a93550>]"
      ]
     },
     "execution_count": 23,
     "metadata": {},
     "output_type": "execute_result"
    },
    {
     "data": {
      "image/png": "[encoded data removed]",
      "text/plain": [
       "<Figure size 1152x576 with 1 Axes>"
      ]
     },
     "metadata": {},
     "output_type": "display_data"
    }
   ],
   "source": [
    "plt.figure(figsize=(16, 8))\n",
    "plt.title(\"Average Hospitalization Days Monthly\")\n",
    "plt.plot(range(len(dfm)), dfm['Days'], '-', c='forestgreen')"
   ]
  },
  {
   "cell_type": "code",
   "execution_count": 24,
   "metadata": {
    "collapsed": false
   },
   "outputs": [],
   "source": [
    "dfy = df.groupby(df['In'].map(lambda x: x.year)).mean()"
   ]
  },
  {
   "cell_type": "code",
   "execution_count": 25,
   "metadata": {},
   "outputs": [
    {
     "data": {
      "text/html": [
       "<div>\n",
       "<style scoped>\n",
       "    .dataframe tbody tr th:only-of-type {\n",
       "        vertical-align: middle;\n",
       "    }\n",
       "\n",
       "    .dataframe tbody tr th {\n",
       "        vertical-align: top;\n",
       "    }\n",
       "\n",
       "    .dataframe thead th {\n",
       "        text-align: right;\n",
       "    }\n",
       "</style>\n",
       "<table border=\"1\" class=\"dataframe\">\n",
       "  <thead>\n",
       "    <tr style=\"text-align: right;\">\n",
       "      <th></th>\n",
       "      <th>Days</th>\n",
       "    </tr>\n",
       "    <tr>\n",
       "      <th>In</th>\n",
       "      <th></th>\n",
       "    </tr>\n",
       "  </thead>\n",
       "  <tbody>\n",
       "    <tr>\n",
       "      <th>1999</th>\n",
       "      <td>6.156250</td>\n",
       "    </tr>\n",
       "    <tr>\n",
       "      <th>2000</th>\n",
       "      <td>1.997479</td>\n",
       "    </tr>\n",
       "    <tr>\n",
       "      <th>2001</th>\n",
       "      <td>2.860689</td>\n",
       "    </tr>\n",
       "    <tr>\n",
       "      <th>2002</th>\n",
       "      <td>1.880566</td>\n",
       "    </tr>\n",
       "    <tr>\n",
       "      <th>2003</th>\n",
       "      <td>2.512938</td>\n",
       "    </tr>\n",
       "    <tr>\n",
       "      <th>2004</th>\n",
       "      <td>2.450731</td>\n",
       "    </tr>\n",
       "    <tr>\n",
       "      <th>2005</th>\n",
       "      <td>3.287137</td>\n",
       "    </tr>\n",
       "    <tr>\n",
       "      <th>2006</th>\n",
       "      <td>3.074313</td>\n",
       "    </tr>\n",
       "    <tr>\n",
       "      <th>2007</th>\n",
       "      <td>3.034554</td>\n",
       "    </tr>\n",
       "    <tr>\n",
       "      <th>2008</th>\n",
       "      <td>2.892401</td>\n",
       "    </tr>\n",
       "  </tbody>\n",
       "</table>\n",
       "</div>"
      ],
      "text/plain": [
       "          Days\n",
       "In            \n",
       "1999  6.156250\n",
       "2000  1.997479\n",
       "2001  2.860689\n",
       "2002  1.880566\n",
       "2003  2.512938\n",
       "2004  2.450731\n",
       "2005  3.287137\n",
       "2006  3.074313\n",
       "2007  3.034554\n",
       "2008  2.892401"
      ]
     },
     "execution_count": 25,
     "metadata": {},
     "output_type": "execute_result"
    }
   ],
   "source": [
    "dfy.head(10)"
   ]
  },
  {
   "cell_type": "markdown",
   "metadata": {},
   "source": [
    "---\n",
    "Trying to explain Anomalies [Anmoaly Detection](https://www.datascience.com/blog/python-anomaly-detection)"
   ]
  },
  {
   "cell_type": "code",
   "execution_count": 69,
   "metadata": {},
   "outputs": [],
   "source": [
    "# 3. Lets define some use-case specific UDF(User Defined Functions)\n",
    "\n",
    "def moving_average(data, window_size):\n",
    "    window = np.ones(int(window_size))/float(window_size)\n",
    "    return np.convolve(data, window, 'same')\n",
    "\n",
    "def explain_anomalies(y, window_size, sigma=1.0):\n",
    "    avg = moving_average(y, window_size).tolist()\n",
    "    residual = y - avg\n",
    "    # Calculate the variation in the distribution of the residual\n",
    "    std = np.std(residual)\n",
    "    return {'standard_deviation': round(std, 3),\n",
    "            'anomalies_dict': collections.OrderedDict([(index, y_i) for\n",
    "                                                       index, y_i, avg_i in zip(count(), y, avg)\n",
    "              if (y_i > avg_i + (sigma*std)) | (y_i < avg_i - (sigma*std))])}\n",
    "\n",
    "\n",
    "def explain_anomalies_rolling_std(y, window_size, sigma=1.0):\n",
    "    avg = moving_average(y, window_size)\n",
    "    avg_list = avg.tolist()\n",
    "    residual = y - avg\n",
    "    # Calculate the variation in the distribution of the residual\n",
    "    testing_std = Rolling(residual, window_size).std()\n",
    "    testing_std_as_df = pd.DataFrame(testing_std)\n",
    "    rolling_std = testing_std_as_df.replace(np.nan, testing_std_as_df.iloc[window_size - 1]).round(3).iloc[:,0].tolist()\n",
    "    std = np.std(residual)\n",
    "    return {'stationary standard_deviation': round(std, 3),\n",
    "            'anomalies_dict': collections.OrderedDict([(index, y_i)\n",
    "                                                       for index, y_i, avg_i, rs_i in zip(count(),\n",
    "                                                                                           y, avg_list, rolling_std)\n",
    "              if (y_i > avg_i + (sigma * rs_i)) | (y_i < avg_i - (sigma * rs_i))])}\n",
    "\n",
    "\n",
    "# This function is repsonsible for displaying how the function performs on the given dataset.\n",
    "def plot_results(x, y, window_size, sigma_value=1, text_xlabel=\"X Axis\", text_ylabel=\"Y Axis\", applying_rolling_std=False):\n",
    "    plt.figure(figsize=(15, 8))\n",
    "    plt.plot(x, y, \"k.\")\n",
    "    y_av = moving_average(y, window_size)\n",
    "    plt.plot(x, y_av, color='green')\n",
    "    plt.xlim(0, len(y))\n",
    "    plt.xlabel(text_xlabel)\n",
    "    plt.ylabel(text_ylabel)\n",
    "    events = {}\n",
    "    if applying_rolling_std:\n",
    "        events = explain_anomalies_rolling_std(y, window_size=window_size, sigma=sigma_value)\n",
    "    else:\n",
    "        events = explain_anomalies(y, window_size=window_size, sigma=sigma_value)\n",
    "\n",
    "    x_anomaly = np.fromiter(events['anomalies_dict'].keys(), dtype=int, count=len(events['anomalies_dict']))\n",
    "    y_anomaly = np.fromiter(events['anomalies_dict'].values(), dtype=float,\n",
    "                                            count=len(events['anomalies_dict']))\n",
    "    plt.plot(x_anomaly, y_anomaly, \"r*\", markersize=12)\n",
    "\n",
    "    # add grid and lines and enable the plot\n",
    "    plt.grid(True)\n",
    "    plt.show()"
   ]
  },
  {
   "cell_type": "code",
   "execution_count": 47,
   "metadata": {},
   "outputs": [
    {
     "data": {
      "image/png": "[encoded data removed]",
      "text/plain": [
       "<Figure size 1080x576 with 1 Axes>"
      ]
     },
     "metadata": {},
     "output_type": "display_data"
    }
   ],
   "source": [
    "plot_results(range(len(dfm.index)), y=dfm['Days'], window_size=10, text_xlabel=\"Months\", sigma_value=3, text_ylabel=\"Anomaly\")"
   ]
  },
  {
   "cell_type": "code",
   "execution_count": 51,
   "metadata": {},
   "outputs": [
    {
     "name": "stdout",
     "output_type": "stream",
     "text": [
      "Information about the anomalies model:{'standard_deviation': 0.322, 'anomalies_dict': OrderedDict([(0, 6.15625), (216, 2.751336898395722)])}\n"
     ]
    }
   ],
   "source": [
    "events = explain_anomalies(dfm['Days'], window_size=5, sigma=3)\n",
    "\n",
    "# Display the anomaly dict\n",
    "print(\"Information about the anomalies model:{}\".format(events))"
   ]
  },
  {
   "cell_type": "code",
   "execution_count": 71,
   "metadata": {},
   "outputs": [
    {
     "name": "stdout",
     "output_type": "stream",
     "text": [
      "Information about the anomalies model:{'stationary standard_deviation': 2.338, 'anomalies_dict': OrderedDict([(14270, 3), (14703, 2), (23097, 5), (27992, 2), (61410, 3), (65515, 3), (70581, 3), (79850, 3), (86224, 3), (88420, 3)])}\n"
     ]
    }
   ],
   "source": [
    "events_std = explain_anomalies_rolling_std(df['Days'], window_size=5, sigma=3)\n",
    "\n",
    "# Display the anomaly dict\n",
    "print(\"Information about the anomalies model:{}\".format(events_std))"
   ]
  },
  {
   "cell_type": "code",
   "execution_count": null,
   "metadata": {},
   "outputs": [],
   "source": []
  },
  {
   "cell_type": "markdown",
   "metadata": {},
   "source": [
    "---\n",
    "\n",
    "Now we now the outliers of days of hospitalization we have to see every single day what happened, we have to make a list of all those  "
   ]
  },
  {
   "cell_type": "markdown",
   "metadata": {},
   "source": [
    "let's see now all the cases where is more than 1 year, it means (likely) is a system issue"
   ]
  },
  {
   "cell_type": "code",
   "execution_count": 72,
   "metadata": {
    "collapsed": false
   },
   "outputs": [
    {
     "data": {
      "text/plain": [
       "In      0\n",
       "Out     0\n",
       "Days    0\n",
       "dtype: int64"
      ]
     },
     "execution_count": 72,
     "metadata": {},
     "output_type": "execute_result"
    }
   ],
   "source": [
    "#Not so many of those\n",
    "df[df['Days'] > 365].count()"
   ]
  },
  {
   "cell_type": "code",
   "execution_count": 73,
   "metadata": {
    "collapsed": false
   },
   "outputs": [
    {
     "data": {
      "text/html": [
       "<div>\n",
       "<style scoped>\n",
       "    .dataframe tbody tr th:only-of-type {\n",
       "        vertical-align: middle;\n",
       "    }\n",
       "\n",
       "    .dataframe tbody tr th {\n",
       "        vertical-align: top;\n",
       "    }\n",
       "\n",
       "    .dataframe thead th {\n",
       "        text-align: right;\n",
       "    }\n",
       "</style>\n",
       "<table border=\"1\" class=\"dataframe\">\n",
       "  <thead>\n",
       "    <tr style=\"text-align: right;\">\n",
       "      <th></th>\n",
       "      <th>Days</th>\n",
       "    </tr>\n",
       "  </thead>\n",
       "  <tbody>\n",
       "    <tr>\n",
       "      <th>count</th>\n",
       "      <td>89578.000000</td>\n",
       "    </tr>\n",
       "    <tr>\n",
       "      <th>mean</th>\n",
       "      <td>2.932003</td>\n",
       "    </tr>\n",
       "    <tr>\n",
       "      <th>std</th>\n",
       "      <td>2.670116</td>\n",
       "    </tr>\n",
       "    <tr>\n",
       "      <th>min</th>\n",
       "      <td>0.000000</td>\n",
       "    </tr>\n",
       "    <tr>\n",
       "      <th>25%</th>\n",
       "      <td>2.000000</td>\n",
       "    </tr>\n",
       "    <tr>\n",
       "      <th>50%</th>\n",
       "      <td>3.000000</td>\n",
       "    </tr>\n",
       "    <tr>\n",
       "      <th>75%</th>\n",
       "      <td>4.000000</td>\n",
       "    </tr>\n",
       "    <tr>\n",
       "      <th>max</th>\n",
       "      <td>258.000000</td>\n",
       "    </tr>\n",
       "  </tbody>\n",
       "</table>\n",
       "</div>"
      ],
      "text/plain": [
       "               Days\n",
       "count  89578.000000\n",
       "mean       2.932003\n",
       "std        2.670116\n",
       "min        0.000000\n",
       "25%        2.000000\n",
       "50%        3.000000\n",
       "75%        4.000000\n",
       "max      258.000000"
      ]
     },
     "execution_count": 73,
     "metadata": {},
     "output_type": "execute_result"
    }
   ],
   "source": [
    "df.describe()"
   ]
  },
  {
   "cell_type": "code",
   "execution_count": 75,
   "metadata": {
    "collapsed": false
   },
   "outputs": [
    {
     "data": {
      "text/plain": [
       "5"
      ]
     },
     "execution_count": 75,
     "metadata": {},
     "output_type": "execute_result"
    }
   ],
   "source": [
    "#The rule we gonna use is excluding all the data with days more than 2 estandart deviatin_\n",
    "two_dev = int(2*df['Days'].std())\n",
    "two_dev"
   ]
  },
  {
   "cell_type": "code",
   "execution_count": 76,
   "metadata": {
    "collapsed": false
   },
   "outputs": [
    {
     "data": {
      "text/plain": [
       "In      81152\n",
       "Out     81152\n",
       "Days    81152\n",
       "dtype: int64"
      ]
     },
     "execution_count": 76,
     "metadata": {},
     "output_type": "execute_result"
    }
   ],
   "source": [
    "df_ = df[df['Days'] < two_dev]\n",
    "df_.count()"
   ]
  },
  {
   "cell_type": "code",
   "execution_count": 83,
   "metadata": {},
   "outputs": [],
   "source": [
    "#plt.figure(figsize=(16, 8))\n",
    "#plt.title(\"Average Hospitalization Days\")\n",
    "#plt.plot(range(len(df_)), df_['Days'], '-', c='forestgreen')"
   ]
  },
  {
   "cell_type": "markdown",
   "metadata": {},
   "source": [
    "What's the proportion of the information included within 2stddev"
   ]
  },
  {
   "cell_type": "code",
   "execution_count": 79,
   "metadata": {
    "collapsed": false
   },
   "outputs": [
    {
     "data": {
      "text/plain": [
       "In      0.905937\n",
       "Out     0.905937\n",
       "Days    0.905937\n",
       "dtype: float64"
      ]
     },
     "execution_count": 79,
     "metadata": {},
     "output_type": "execute_result"
    }
   ],
   "source": [
    "df_.count()/df.count()\n",
    "#this is the percentage of the data contained within 2 standart deviation"
   ]
  },
  {
   "cell_type": "markdown",
   "metadata": {},
   "source": [
    "##### Average days in history\n",
    "\n",
    "The patients has 3+-3 days of hospitalization over the time.  \n",
    "\n",
    "From here we may set some questions about it  \n",
    "\n",
    "- Avg days grouped by disease\n",
    "- Avg days grouped by age, gender\n",
    "- Avg days grouped by participant (agent, doctor, ofice)\n",
    "- Avg days grouped by season\n",
    "     "
   ]
  },
  {
   "cell_type": "markdown",
   "metadata": {},
   "source": [
    "This mean it makes more senese, and also one standart deviation hace to be close to zero\n",
    "\n",
    "---"
   ]
  },
  {
   "cell_type": "markdown",
   "metadata": {},
   "source": [
    "In order to have some insight about the time series we gonna wrang the dates"
   ]
  },
  {
   "cell_type": "markdown",
   "metadata": {},
   "source": [
    "---\n",
    "### Defining Boundary"
   ]
  },
  {
   "cell_type": "markdown",
   "metadata": {},
   "source": [
    "The first thing we have to consider is the time.\n",
    "\n",
    "So we define $ \\Delta_{tr} $ as the time elapsed between 2 trials, where a trial is the event of push the buttom and select a digit on the test.\n",
    "\n",
    "Thinking on this we say that every person perform $n$ number of tests and every test has $m$ number of trials, then the time elapsed to perform every trial is $ \\Delta_{tr} $\n",
    "\n",
    "We define $T$ as the vector of time responses on an event, following this logic we can calculate the median of those times.\n",
    "\n",
    "Finally we may calculate the $SD$ of all the people on MS and Health Control grou separatelly"
   ]
  },
  {
   "cell_type": "markdown",
   "metadata": {},
   "source": [
    "##### Outlier Points\n",
    "\n",
    "$$ \\Delta_{tr} > median(T) + 2 (SD (Group))  \\hspace{1cm} $$\n",
    "$$ \\max{\\{\\Delta_{tr},0\\}} < median(T) - 2 (SD (Group))  \\hspace{1cm} \\forall{\\Delta_{tr}}$$\n",
    "\n",
    "$T =(\\Delta_{tr1}, \\Delta_{tr2}, ... \\Delta_{trm})$  \n",
    "$tr =$ Time of response on a trial"
   ]
  },
  {
   "cell_type": "code",
   "execution_count": null,
   "metadata": {
    "collapsed": true
   },
   "outputs": [],
   "source": []
  }
 ],
 "metadata": {
  "kernelspec": {
   "display_name": "Python 3",
   "language": "python",
   "name": "python3"
  },
  "language_info": {
   "codemirror_mode": {
    "name": "ipython",
    "version": 3
   },
   "file_extension": ".py",
   "mimetype": "text/x-python",
   "name": "python",
   "nbconvert_exporter": "python",
   "pygments_lexer": "ipython3",
   "version": "3.6.5"
  }
 },
 "nbformat": 4,
 "nbformat_minor": 2
}
